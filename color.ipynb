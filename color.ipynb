{
  "nbformat": 4,
  "nbformat_minor": 0,
  "metadata": {
    "colab": {
      "name": "color",
      "provenance": [],
      "collapsed_sections": []
    },
    "kernelspec": {
      "name": "python3",
      "display_name": "Python 3"
    }
  },
  "cells": [
    {
      "cell_type": "code",
      "metadata": {
        "id": "OKnLvh5y6Z-Y",
        "colab_type": "code",
        "colab": {}
      },
      "source": [
        "from sklearn.cluster import KMeans\n",
        "import matplotlib.pyplot as plt\n",
        "import numpy as np\n",
        "import cv2\n",
        "from collections import Counter\n",
        "from skimage.color import rgb2lab, deltaE_cie76\n",
        "import os"
      ],
      "execution_count": null,
      "outputs": []
    },
    {
      "cell_type": "code",
      "metadata": {
        "id": "YN-WTAFc6fBy",
        "colab_type": "code",
        "colab": {}
      },
      "source": [
        "def RGB2HEX(color):\n",
        "    return \"#{:02x}{:02x}{:02x}\".format(int(color[0]), int(color[1]), int(color[2]))"
      ],
      "execution_count": null,
      "outputs": []
    },
    {
      "cell_type": "code",
      "metadata": {
        "id": "ZrYjxJV56qCp",
        "colab_type": "code",
        "colab": {}
      },
      "source": [
        "def get_image(image_path):\n",
        "    image = cv2.imread(image_path)\n",
        "    image = cv2.cvtColor(image, cv2.COLOR_BGR2RGB)\n",
        "    return image\n"
      ],
      "execution_count": null,
      "outputs": []
    },
    {
      "cell_type": "code",
      "metadata": {
        "id": "MYITcEt66tAG",
        "colab_type": "code",
        "colab": {}
      },
      "source": [
        "def get_colors(image, number_of_colors, show_chart):\n",
        "    \n",
        "    # modified_image = cv2.resize(image, (600, 400), interpolation = cv2.INTER_AREA)\n",
        "    modified_image = image.reshape(image.shape[0]*image.shape[1], 3)\n",
        "    \n",
        "    clf = KMeans(n_clusters = number_of_colors)\n",
        "    labels = clf.fit_predict(modified_image)\n",
        "    \n",
        "    counts = Counter(labels)\n",
        "    # sort to ensure correct color percentage\n",
        "    counts = dict(sorted(counts.items()))\n",
        "    \n",
        "    center_colors = clf.cluster_centers_\n",
        "    # We get ordered colors by iterating through the keys\n",
        "    ordered_colors = [center_colors[i] for i in counts.keys()]\n",
        "    hex_colors = [RGB2HEX(ordered_colors[i]) for i in counts.keys()]\n",
        "    rgb_colors = [ordered_colors[i] for i in counts.keys()]\n",
        "\n",
        "    if (show_chart):\n",
        "        plt.figure(figsize = (8, 6))\n",
        "        plt.pie(counts.values(), labels = hex_colors, colors = hex_colors)\n",
        "    \n",
        "    return rgb_colors"
      ],
      "execution_count": null,
      "outputs": []
    },
    {
      "cell_type": "markdown",
      "metadata": {
        "id": "650sZAtl_8tT",
        "colab_type": "text"
      },
      "source": [
        ""
      ]
    },
    {
      "cell_type": "code",
      "metadata": {
        "id": "I_PCftb96wJf",
        "colab_type": "code",
        "colab": {
          "base_uri": "https://localhost:8080/",
          "height": 34
        },
        "outputId": "bb968a87-b379-4c31-875e-8ceafd824afc"
      },
      "source": [
        "from google.colab import drive\n",
        "drive.mount('/content/drive')\n",
        "Path='/content/drive/My Drive/sample1.jpg'\n",
        "\n",
        "\n"
      ],
      "execution_count": null,
      "outputs": [
        {
          "output_type": "stream",
          "text": [
            "Drive already mounted at /content/drive; to attempt to forcibly remount, call drive.mount(\"/content/drive\", force_remount=True).\n"
          ],
          "name": "stdout"
        }
      ]
    },
    {
      "cell_type": "code",
      "metadata": {
        "id": "uRSUM-bk7_Rh",
        "colab_type": "code",
        "colab": {
          "base_uri": "https://localhost:8080/",
          "height": 357
        },
        "outputId": "5fd13142-7072-4cb9-8193-1c0c6cffd9c7"
      },
      "source": [
        "res=get_colors(get_image(Path), 1, True)\n",
        "\n",
        "# print(max(res))"
      ],
      "execution_count": null,
      "outputs": [
        {
          "output_type": "display_data",
          "data": {
            "image/png": "[encoded data removed]",
            "text/plain": [
              "<Figure size 576x432 with 1 Axes>"
            ]
          },
          "metadata": {
            "tags": []
          }
        }
      ]
    },
    {
      "cell_type": "code",
      "metadata": {
        "id": "IzR-S61T8dMN",
        "colab_type": "code",
        "colab": {}
      },
      "source": [
        "dict_colors={\"\":}"
      ],
      "execution_count": null,
      "outputs": []
    }
  ]
}